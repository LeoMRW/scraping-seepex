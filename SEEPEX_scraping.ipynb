{
  "nbformat": 4,
  "nbformat_minor": 0,
  "metadata": {
    "colab": {
      "provenance": [],
      "mount_file_id": "1ACEMHwSHCLptPAsVc1sybycb4-CFTBq0",
      "authorship_tag": "ABX9TyPR14Q4GSfoIpOgf2ai0Ywq"
    },
    "kernelspec": {
      "name": "python3",
      "display_name": "Python 3"
    },
    "language_info": {
      "name": "python"
    }
  },
  "cells": [
    {
      "cell_type": "code",
      "execution_count": 3,
      "metadata": {
        "id": "am_hw8i3JHln"
      },
      "outputs": [],
      "source": [
        "import requests\n",
        "from bs4 import BeautifulSoup as bs\n",
        "import pandas as pd\n",
        "from pandas.core.indexes.interval import date_range\n",
        "import numpy as np"
      ]
    },
    {
      "cell_type": "code",
      "source": [
        "dates = pd.date_range(start=\"2016-2-17\", end=\"2022-11-28\", freq=\"W\")\n",
        "\n",
        "dataframes = []\n",
        "\n",
        "for date in dates:\n",
        "  url = \"http://seepex-spot.rs/en/market-data/day-ahead-auction/\"+str(date.strftime('%Y-%m-%d'))+\"/RS\"\n",
        "  page = requests.get(url)\n",
        "  soup = bs(page.text, \"html.parser\")\n",
        "  table_hours = soup.find('table', class_=\"list hours responsive\")\n",
        "  \n",
        "  headers = []\n",
        "\n",
        "  for i in table_hours.find_all(\"th\"):\n",
        "    title = i.text.strip()\n",
        "    headers.append(title)\n",
        "  \n",
        "  df_temp = pd.DataFrame(columns = headers[2:])\n",
        "\n",
        "  for row in table_hours.find_all(\"tr\")[1:]:\n",
        "    data = row.find_all(\"td\")\n",
        "    row_data = [td.text.strip() for td in data]\n",
        "    length = len(df_temp)\n",
        "    df_temp.loc[length] = row_data[2:]\n",
        "  \n",
        "  dataframes.append(df_temp.T)"
      ],
      "metadata": {
        "id": "6KfYjnl7JL0j"
      },
      "execution_count": 4,
      "outputs": []
    },
    {
      "cell_type": "code",
      "source": [
        "df = None\n",
        "for d in dataframes:\n",
        "  df = d if df is None else df.append(d)"
      ],
      "metadata": {
        "id": "GbwbFhFBJQ9M"
      },
      "execution_count": 5,
      "outputs": []
    }
  ]
}